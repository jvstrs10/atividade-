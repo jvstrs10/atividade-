{
  "cells": [
    {
      "cell_type": "markdown",
      "metadata": {
        "id": "view-in-github",
        "colab_type": "text"
      },
      "source": [
        "<a href=\"https://colab.research.google.com/github/jvstrs10/atividade-/blob/main/Ol%C3%A1%2C_este_%C3%A9_o_Colaboratory.ipynb\" target=\"_parent\"><img src=\"https://colab.research.google.com/assets/colab-badge.svg\" alt=\"Open In Colab\"/></a>"
      ]
    },
    {
      "cell_type": "code",
      "source": [
        "pip install textblob"
      ],
      "metadata": {
        "id": "tnfhAD7QPco3",
        "outputId": "19b73cd2-2d9a-465e-929a-639e36fe21ae",
        "colab": {
          "base_uri": "https://localhost:8080/"
        }
      },
      "execution_count": 1,
      "outputs": [
        {
          "output_type": "stream",
          "name": "stdout",
          "text": [
            "Requirement already satisfied: textblob in /usr/local/lib/python3.10/dist-packages (0.17.1)\n",
            "Requirement already satisfied: nltk>=3.1 in /usr/local/lib/python3.10/dist-packages (from textblob) (3.9.1)\n",
            "Requirement already satisfied: click in /usr/local/lib/python3.10/dist-packages (from nltk>=3.1->textblob) (8.1.7)\n",
            "Requirement already satisfied: joblib in /usr/local/lib/python3.10/dist-packages (from nltk>=3.1->textblob) (1.4.2)\n",
            "Requirement already satisfied: regex>=2021.8.3 in /usr/local/lib/python3.10/dist-packages (from nltk>=3.1->textblob) (2024.9.11)\n",
            "Requirement already satisfied: tqdm in /usr/local/lib/python3.10/dist-packages (from nltk>=3.1->textblob) (4.66.6)\n"
          ]
        }
      ]
    },
    {
      "cell_type": "code",
      "source": [
        "#TextBlob é uma biblioteca Python para processamento de dados textuais.\n",
        "#Ele fornece uma API simples para mergulhar em tarefas comuns de processamento\n",
        "#de linguagem natural (PNL), como marcação de classe gramatical, extração de\n",
        "# sintagmas nominais, análise de sentimento, classificação e muito mais.\n",
        "\n",
        "\n",
        "# Aqui nós criamos uma função para usarmos a ferramenta de análise de sentimentos.\n",
        "def analisar_sentimentos(texto):\n",
        "    from textblob import TextBlob\n",
        "    blob = TextBlob(texto)\n",
        "    return blob.sentiment.polarity\n",
        "\n",
        "# Após criarmos a nossa função, nós vamos definir que dado nós vamos receber e a função irá processar e mostrar para o usuário: Um texto.\n",
        "texto = input(\"Digite uma frase: \")\n",
        "\n",
        "#Aqui nós fizemos o uso de if e else para distinguirmos os tipos de sentimentos.\n",
        "\n",
        "#Quando a polaridade de um sentimento é 0 ele é neutro\n",
        "if analisar_sentimentos(texto) == 0.0:\n",
        "    print(\"Neutro\")\n",
        "#Quando a polaridade de um sentimento é maior que 0 ele é positivo\n",
        "elif analisar_sentimentos(texto) > 0.0:\n",
        "    print(\"Positivo\")\n",
        "#Quando a polaridade de um sentimento é menor que 0 ele é negativo\n",
        "else:\n",
        "    print(\"Negativo\")\n",
        "\n",
        "#No final de tudo você irá receber a informação de se o sentimento do seu texto é positivo, negativo ou neutro.\n",
        "#Observação: A API só funciona com textos em inglês, então se você colocar algo em outro idioma dará como se fosse neutro."
      ],
      "metadata": {
        "id": "2cNd2tTkR4cL",
        "outputId": "18e90422-3f3b-40b1-cb9a-4834416fa491",
        "colab": {
          "base_uri": "https://localhost:8080/"
        }
      },
      "execution_count": 21,
      "outputs": [
        {
          "output_type": "stream",
          "name": "stdout",
          "text": [
            "Digite uma frase: I'm very happy\n",
            "Positivo\n"
          ]
        }
      ]
    },
    {
      "cell_type": "code",
      "source": [],
      "metadata": {
        "id": "uZXjjwGqSnR0"
      },
      "execution_count": null,
      "outputs": []
    }
  ],
  "metadata": {
    "colab": {
      "name": "Olá, este é o Colaboratory",
      "toc_visible": true,
      "provenance": [],
      "include_colab_link": true
    },
    "kernelspec": {
      "display_name": "Python 3",
      "name": "python3"
    }
  },
  "nbformat": 4,
  "nbformat_minor": 0
}
